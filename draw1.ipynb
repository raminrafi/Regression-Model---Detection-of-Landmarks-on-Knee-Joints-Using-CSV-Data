{
 "cells": [
  {
   "cell_type": "code",
   "execution_count": 1,
   "metadata": {},
   "outputs": [],
   "source": [
    "import numpy as np\n",
    "import ipyvolume as ipv\n"
   ]
  },
  {
   "cell_type": "code",
   "execution_count": 2,
   "metadata": {},
   "outputs": [],
   "source": [
    "def draw(name='medialSulcus', pat='0'):\n",
    "    image = np.load('/code/'+name+'/images/'+pat+'.npy')\n",
    "    label = np.load('/code/'+name+'/label/'+pat+'.npy')\n",
    "\n",
    "    mark = np.zeros(image.shape)\n",
    "    cude_size = 2\n",
    "    x = int(label[3])\n",
    "    y = int(label[4])\n",
    "    z = int(label[5])\n",
    "    for i in range(-cude_size, cude_size):\n",
    "        for j in range(-cude_size, cude_size):\n",
    "            for k in range(-cude_size, cude_size):\n",
    "                mark[i+x, j+y, k+z] = 5200\n",
    "    fig = ipv.figure()\n",
    "    vol = ipv.volshow(image)\n",
    "    lbl = ipv.volshow(mark, extent=vol.extent)\n",
    "    ipv.save('html/' + name + '-image-' + pat + '.html')\n",
    "\n",
    "def draw2(name='medialSulcus', pat='0'):\n",
    "    image = np.load('/code/'+name+'/images/'+pat+'.npy')\n",
    "    mark = np.load('/code/'+name+'/label/'+pat+'-2.npy')\n",
    "    fig = ipv.figure()\n",
    "    vol = ipv.volshow(image)\n",
    "    lbl = ipv.volshow(mark, extent=vol.extent)\n",
    "    ipv.save('html/' + name + '-image-' + pat + '-2.html')\n"
   ]
  },
  {
   "cell_type": "code",
   "execution_count": 3,
   "metadata": {},
   "outputs": [
    {
     "name": "stderr",
     "output_type": "stream",
     "text": [
      "/usr/local/lib/python3.6/site-packages/ipyvolume/serialize.py:81: RuntimeWarning: invalid value encountered in true_divide\n",
      "  gradient = gradient / np.sqrt(gradient[0]**2 + gradient[1]**2 + gradient[2]**2)\n"
     ]
    }
   ],
   "source": [
    "draw('medialSulcus', '0')"
   ]
  },
  {
   "cell_type": "code",
   "execution_count": null,
   "metadata": {},
   "outputs": [
    {
     "name": "stdout",
     "output_type": "stream",
     "text": [
      "0\n",
      "1\n",
      "2\n",
      "3\n",
      "4\n",
      "5\n",
      "6\n",
      "7\n",
      "8\n",
      "9\n",
      "10\n"
     ]
    }
   ],
   "source": [
    "for i in range(15):\n",
    "    draw('medialSulcus', str(i))\n",
    "\n",
    "    draw2('medialSulcus', str(i))\n",
    "    print(i)"
   ]
  },
  {
   "cell_type": "code",
   "execution_count": null,
   "metadata": {},
   "outputs": [],
   "source": []
  }
 ],
 "metadata": {
  "kernelspec": {
   "display_name": "Python 3",
   "language": "python",
   "name": "python3"
  },
  "language_info": {
   "codemirror_mode": {
    "name": "ipython",
    "version": 3
   },
   "file_extension": ".py",
   "mimetype": "text/x-python",
   "name": "python",
   "nbconvert_exporter": "python",
   "pygments_lexer": "ipython3",
   "version": "3.6.9"
  }
 },
 "nbformat": 4,
 "nbformat_minor": 4
}
