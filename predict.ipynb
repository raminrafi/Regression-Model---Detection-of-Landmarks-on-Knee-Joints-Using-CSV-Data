{
 "cells": [
  {
   "cell_type": "code",
   "execution_count": 1,
   "metadata": {},
   "outputs": [
    {
     "name": "stderr",
     "output_type": "stream",
     "text": [
      "Using TensorFlow backend.\n"
     ]
    }
   ],
   "source": [
    "from __future__ import print_function\n",
    "import keras\n",
    "from keras.models import Sequential, load_model\n",
    "from keras.layers import Dense, Dropout, Activation, Flatten\n",
    "from keras.layers import Conv3D, MaxPooling3D\n",
    "from keras.optimizers import SGD\n",
    "from keras.layers.normalization import BatchNormalization\n",
    "\n",
    "import os\n",
    "from keras import backend as K\n",
    "\n",
    "from sklearn.model_selection import train_test_split\n",
    "import numpy as np\n",
    "\n",
    "landmarks = [\n",
    "    'PCLOrigin',\n",
    "    'lateralCondyle',\n",
    "    'medialCondyle',\n",
    "    'medialSulcus',\n",
    "    'whitesideReference'\n",
    "]\n",
    "\n",
    "\n",
    "def one_axis_femur_model(name='PCLOrigin', axis=0):\n",
    "    output_path = \"/code/\" + name + \"/\"\n",
    "\n",
    "    data_size = 15\n",
    "    imgs_to_process = []\n",
    "    lbls_to_process = []\n",
    "    dif_arr = [(0,1,2), (0,2,1), (1,0,2), (1,2,0), (2,0,1), (2,1,0)]\n",
    "    num_classes = 120\n",
    "\n",
    "    for index in range(data_size):\n",
    "        for a, b, c in dif_arr:\n",
    "            imgs_to_process.append(np.load(output_path + 'images/' + '{}-{}-{}-{}.npy'.format(index, a, b, c)))\n",
    "            label = np.load(output_path + 'label/' + '{}-{}-{}-{}.npy'.format(index, a, b, c))\n",
    "            lbls_to_process.append(int(label[3+axis]))\n",
    "            num_classes = int(label[6]) * 2\n",
    "\n",
    "    imgs_to_process = np.array(imgs_to_process)\n",
    "    lbls_to_process = np.array(lbls_to_process)\n",
    "\n",
    "    batch_size = 15\n",
    "    epochs = 200\n",
    "    learning_rate = 0.001\n",
    "\n",
    "    x_train, x_test, y_train, y_test = train_test_split(imgs_to_process, lbls_to_process, test_size=0.2)\n",
    "    img_rows = x_train.shape[1]\n",
    "    img_cols = x_train.shape[2]\n",
    "    colors = x_train.shape[3]\n",
    "\n",
    "\n",
    "    if K.image_data_format() == 'channels_first':\n",
    "        x_train = x_train.reshape(x_train.shape[0], 1,colors, img_rows, img_cols)\n",
    "        x_test = x_test.reshape(x_test.shape[0], 1,colors, img_rows, img_cols)\n",
    "        input_shape = (1, colors, img_rows, img_cols)\n",
    "    else:\n",
    "        x_train = x_train.reshape(x_train.shape[0], img_rows, img_cols, colors, 1)\n",
    "        x_test = x_test.reshape(x_test.shape[0], img_rows, img_cols, colors, 1)\n",
    "        input_shape = (img_rows, img_cols, colors, 1)\n",
    "\n",
    "    # Convert class vectors to binary class matrices.\n",
    "    y_train = keras.utils.to_categorical(y_train, num_classes)\n",
    "    y_test = keras.utils.to_categorical(y_test, num_classes)\n",
    "\n",
    "    model = load_model('one_axis_femur_model_{}_{}.h5'.format(name, axis))\n",
    "\n",
    "    score = model.evaluate(x_test, y_test, verbose=0)\n",
    "    prediction = model.predict(x_test)\n",
    "    for p, v in zip(prediction, y_test):\n",
    "        print(\"prediction vs actual value: \", np.argmax(p), np.argmax(v))\n",
    "    print('Test loss:', score[0])\n",
    "    print('Test accuracy:', score[1])"
   ]
  },
  {
   "cell_type": "code",
   "execution_count": 2,
   "metadata": {},
   "outputs": [
    {
     "name": "stdout",
     "output_type": "stream",
     "text": [
      "prediction vs actual value:  24 24\n",
      "prediction vs actual value:  21 21\n",
      "prediction vs actual value:  27 27\n",
      "prediction vs actual value:  26 21\n",
      "prediction vs actual value:  25 25\n",
      "prediction vs actual value:  24 24\n",
      "prediction vs actual value:  23 23\n",
      "prediction vs actual value:  25 25\n",
      "prediction vs actual value:  23 23\n",
      "prediction vs actual value:  21 21\n",
      "prediction vs actual value:  24 24\n",
      "prediction vs actual value:  28 28\n",
      "prediction vs actual value:  26 26\n",
      "prediction vs actual value:  24 22\n",
      "prediction vs actual value:  21 21\n",
      "prediction vs actual value:  24 24\n",
      "prediction vs actual value:  21 27\n",
      "prediction vs actual value:  21 21\n",
      "Test loss: 1.1472265720367432\n",
      "Test accuracy: 0.8333333134651184\n"
     ]
    }
   ],
   "source": [
    "one_axis_femur_model('medialSulcus', 0)"
   ]
  },
  {
   "cell_type": "code",
   "execution_count": 3,
   "metadata": {},
   "outputs": [
    {
     "name": "stdout",
     "output_type": "stream",
     "text": [
      "prediction vs actual value:  26 26\n",
      "prediction vs actual value:  27 27\n",
      "prediction vs actual value:  23 23\n",
      "prediction vs actual value:  24 24\n",
      "prediction vs actual value:  22 22\n",
      "prediction vs actual value:  28 28\n",
      "prediction vs actual value:  25 25\n",
      "prediction vs actual value:  21 21\n",
      "prediction vs actual value:  21 21\n",
      "prediction vs actual value:  24 24\n",
      "prediction vs actual value:  23 23\n",
      "prediction vs actual value:  24 24\n",
      "prediction vs actual value:  21 21\n",
      "prediction vs actual value:  23 23\n",
      "prediction vs actual value:  24 24\n",
      "prediction vs actual value:  24 24\n",
      "prediction vs actual value:  24 24\n",
      "prediction vs actual value:  22 22\n",
      "Test loss: 6.901482993271202e-05\n",
      "Test accuracy: 1.0\n"
     ]
    }
   ],
   "source": [
    "one_axis_femur_model('medialSulcus', 1)"
   ]
  },
  {
   "cell_type": "code",
   "execution_count": 14,
   "metadata": {},
   "outputs": [
    {
     "name": "stdout",
     "output_type": "stream",
     "text": [
      "prediction vs actual value:  23 23\n",
      "prediction vs actual value:  25 25\n",
      "prediction vs actual value:  27 27\n",
      "prediction vs actual value:  27 21\n",
      "prediction vs actual value:  25 25\n",
      "prediction vs actual value:  24 24\n",
      "prediction vs actual value:  27 27\n",
      "prediction vs actual value:  21 24\n",
      "prediction vs actual value:  27 25\n",
      "prediction vs actual value:  24 24\n",
      "prediction vs actual value:  21 26\n",
      "prediction vs actual value:  21 21\n",
      "prediction vs actual value:  23 23\n",
      "prediction vs actual value:  28 28\n",
      "prediction vs actual value:  23 23\n",
      "prediction vs actual value:  24 24\n",
      "prediction vs actual value:  24 24\n",
      "prediction vs actual value:  23 23\n",
      "Test loss: 0.5472295880317688\n",
      "Test accuracy: 0.7777777910232544\n"
     ]
    }
   ],
   "source": [
    "one_axis_femur_model('medialSulcus', 2)"
   ]
  },
  {
   "cell_type": "code",
   "execution_count": null,
   "metadata": {},
   "outputs": [],
   "source": []
  }
 ],
 "metadata": {
  "kernelspec": {
   "display_name": "Python 3",
   "language": "python",
   "name": "python3"
  },
  "language_info": {
   "codemirror_mode": {
    "name": "ipython",
    "version": 3
   },
   "file_extension": ".py",
   "mimetype": "text/x-python",
   "name": "python",
   "nbconvert_exporter": "python",
   "pygments_lexer": "ipython3",
   "version": "3.6.9"
  }
 },
 "nbformat": 4,
 "nbformat_minor": 4
}
