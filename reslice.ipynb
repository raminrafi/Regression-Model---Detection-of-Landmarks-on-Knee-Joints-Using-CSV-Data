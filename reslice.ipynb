{
 "cells": [
  {
   "cell_type": "code",
   "execution_count": 1,
   "metadata": {},
   "outputs": [],
   "source": [
    "%matplotlib inline"
   ]
  },
  {
   "cell_type": "markdown",
   "metadata": {},
   "source": [
    "\n",
    "==========================================================\n",
    "Load CT slices and plot axial, sagittal and coronal images\n",
    "==========================================================\n",
    "\n",
    "This example illustrates loading multiple files, sorting them by slice\n",
    "location, building a 3D image and reslicing it in different planes.\n",
    "\n",
    ".. usage:\n",
    "\n",
    "   reslice.py <glob>\n",
    "   where <glob> refers to a set of DICOM image files.\n",
    "\n",
    "   Example: python reslice.py \"*.dcm\". The quotes are needed to protect\n",
    "   the glob from your system and leave it for the script.\n",
    "\n",
    ".. note:\n",
    "\n",
    "   Uses numpy and matplotlib.\n",
    "\n",
    "   Tested using series 2 from here\n",
    "   http://www.pcir.org/researchers/54879843_20060101.html\n"
   ]
  },
  {
   "cell_type": "code",
   "execution_count": 2,
   "metadata": {},
   "outputs": [
    {
     "data": {
      "image/png": "[encoded data removed]",
      "text/plain": [
       "<Figure size 432x288 with 3 Axes>"
      ]
     },
     "metadata": {
      "needs_background": "light"
     },
     "output_type": "display_data"
    }
   ],
   "source": [
    "import pydicom\n",
    "import numpy as np\n",
    "import matplotlib.pyplot as plt\n",
    "import sys\n",
    "import glob\n",
    "\n",
    "# load the DICOM files\n",
    "import os\n",
    "PathDicom = \"/media/mkrnaqeebi/Downloads/Freelancer/CT/FirstFive/Pat1/CT_scan/DICOM/PA000001/ST000001/SE000005\"\n",
    "lstFilesDCM = []  # create an empty list\n",
    "for dirName, subdirList, fileList in os.walk(PathDicom):\n",
    "    for filename in fileList:\n",
    "        if \".zip\" not in filename.lower():  # check whether the file's DICOM\n",
    "            lstFilesDCM.append(os.path.join(dirName,filename))\n",
    "# print(len(lstFilesDCM))\n",
    "files = []\n",
    "# print('glob: {}'.format(sys.argv[1]))\n",
    "for fname in lstFilesDCM:\n",
    "#     print(\"loading: {}\".format(fname))\n",
    "    files.append(pydicom.dcmread(fname))\n",
    "\n",
    "# print(\"file count: {}\".format(len(files)))\n",
    "\n",
    "# skip files with no SliceLocation (eg scout views)\n",
    "slices = []\n",
    "skipcount = 0\n",
    "for f in files:\n",
    "    if hasattr(f, 'SliceLocation'):\n",
    "        slices.append(f)\n",
    "    else:\n",
    "        skipcount = skipcount + 1\n",
    "\n",
    "# print(\"skipped, no SliceLocation: {}\".format(skipcount))\n",
    "\n",
    "# ensure they are in the correct order\n",
    "slices = sorted(slices, key=lambda s: s.SliceLocation)\n",
    "\n",
    "# pixel aspects, assuming all slices are the same\n",
    "ps = slices[0].PixelSpacing\n",
    "ss = slices[0].SliceThickness\n",
    "ax_aspect = ps[1]/ps[0]\n",
    "sag_aspect = ps[1]/ss\n",
    "cor_aspect = ss/ps[0]\n",
    "\n",
    "# create 3D array\n",
    "img_shape = list(slices[0].pixel_array.shape)\n",
    "img_shape.append(len(slices))\n",
    "img3d = np.zeros(img_shape)\n",
    "\n",
    "# fill 3D array with the images from the files\n",
    "for i, s in enumerate(slices):\n",
    "    img2d = s.pixel_array\n",
    "    img3d[:, :, i] = img2d\n",
    "\n",
    "# plot 3 orthogonal slices\n",
    "a1 = plt.subplot(2, 2, 3)\n",
    "plt.imshow(img3d[:, :, img_shape[2]//2])\n",
    "a1.set_aspect(ax_aspect)\n",
    "\n",
    "a2 = plt.subplot(2, 2, 2)\n",
    "plt.imshow(img3d[:, img_shape[1]//2, :])\n",
    "a2.set_aspect(sag_aspect)\n",
    "\n",
    "a3 = plt.subplot(2, 2, 1)\n",
    "plt.imshow(img3d[img_shape[0]//2, :, :].T)\n",
    "a3.set_aspect(cor_aspect)\n",
    "\n",
    "plt.show()"
   ]
  },
  {
   "cell_type": "code",
   "execution_count": 3,
   "metadata": {},
   "outputs": [],
   "source": [
    "# np.average(img3d.ravel())"
   ]
  },
  {
   "cell_type": "code",
   "execution_count": 4,
   "metadata": {},
   "outputs": [],
   "source": [
    "# np.mean(img3d.ravel())"
   ]
  },
  {
   "cell_type": "code",
   "execution_count": 5,
   "metadata": {},
   "outputs": [],
   "source": [
    "# min(img3d.ravel())"
   ]
  },
  {
   "cell_type": "code",
   "execution_count": 6,
   "metadata": {},
   "outputs": [],
   "source": [
    "# max(img3d.ravel())"
   ]
  },
  {
   "cell_type": "code",
   "execution_count": 7,
   "metadata": {},
   "outputs": [],
   "source": [
    "x, y, z = [], [], []\n",
    "\n",
    "for i, img2d in enumerate(img3d):\n",
    "    for j, img1d in enumerate(img2d):\n",
    "        for k, pixal in enumerate(img1d):\n",
    "            if pixal > 200:\n",
    "                x.append(int(i))\n",
    "                y.append(int(j))\n",
    "                z.append(int(k))\n",
    "\n",
    "x = np.array(x)\n",
    "y = np.array(y)\n",
    "z = np.array(z)"
   ]
  },
  {
   "cell_type": "code",
   "execution_count": null,
   "metadata": {},
   "outputs": [],
   "source": [
    "import ipyvolume as ipv\n",
    "ipv.figure()\n",
    "ipv.scatter(x, y, z, marker='sphere')\n",
    "ipv.save('hi.html')"
   ]
  },
  {
   "cell_type": "code",
   "execution_count": null,
   "metadata": {},
   "outputs": [],
   "source": []
  },
  {
   "cell_type": "code",
   "execution_count": null,
   "metadata": {},
   "outputs": [],
   "source": [
    "# import ipyvolume as ipv\n",
    "# N = 1\n",
    "# x, y, z = np.random.normal(0, 1, (3, N))\n",
    "# fig = ipv.figure()\n",
    "# scatter = ipv.scatter(x, y, z, marker='sphere')\n",
    "# # ipv.show()\n",
    "# ipv.save('example.html') \n",
    "# print(x, y, z)"
   ]
  },
  {
   "cell_type": "code",
   "execution_count": null,
   "metadata": {},
   "outputs": [],
   "source": [
    "\n",
    "# # plot 3 orthogonal slices\n",
    "# a1 = plt.subplot(2, 2, 3)\n",
    "# plt.imshow(img3d.sum(2))\n",
    "# a1.set_aspect(ax_aspect)\n",
    "\n",
    "# a2 = plt.subplot(2, 2, 2)\n",
    "# plt.imshow(img3d.sum(1))\n",
    "# a2.set_aspect(sag_aspect)\n",
    "\n",
    "# a3 = plt.subplot(2, 2, 1)\n",
    "# plt.imshow(img3d.sum(0).T)\n",
    "# a3.set_aspect(cor_aspect)\n",
    "\n",
    "# plt.show()"
   ]
  },
  {
   "cell_type": "code",
   "execution_count": null,
   "metadata": {},
   "outputs": [],
   "source": [
    "# # make 3d np array from all slices\n",
    "# unset = True\n",
    "# tem = slices\n",
    "# for i in range(len(tem)):\n",
    "#     arr = tem[i].pixel_array.astype(np.float32)\n",
    "#     if unset:\n",
    "#         imShape = (arr.shape[0], arr.shape[1], len(tem))\n",
    "#         scaledIm = np.zeros(imShape)\n",
    "#         pix_spacing = tem[i].PixelSpacing\n",
    "#         dist = 0\n",
    "#         for j in range(2):\n",
    "#             cs = [float(q) for q in tem[j].ImageOrientationPatient]\n",
    "#             ipp = [float(q) for q in tem[j].ImagePositionPatient]\n",
    "#             parity = pow(-1, j)\n",
    "#             dist += parity*(cs[1]*cs[5] - cs[2]*cs[4])*ipp[0]\n",
    "#             dist += parity*(cs[2]*cs[3] - cs[0]*cs[5])*ipp[1]\n",
    "#             dist += parity*(cs[0]*cs[4] - cs[1]*cs[3])*ipp[2]\n",
    "#         z_spacing = abs(dist)\n",
    "#         slope = tem[i].RescaleSlope\n",
    "#         intercept = tem[i].RescaleIntercept\n",
    "#         unset = False\n",
    "#     scaledIm[:, :, i] = arr\n",
    "\n",
    "# # convert to hounsfield units\n",
    "# scaledIm = slope*scaledIm + intercept\n",
    "# pix_spacing.append(z_spacing)\n",
    "\n",
    "# wl = 300    # window parameters for Angio\n",
    "# ww = 600\n",
    "\n",
    "# windowed = np.zeros(imShape, dtype=np.uint8)\n",
    "# # allImages[scaledIm <= (wl-0.5-(ww-1)/2.0)] = 0\n",
    "# k = np.logical_and(scaledIm > (wl-0.5-(ww-1)/2.0), scaledIm <= (wl-0.5+(ww-1)/2.0))\n",
    "# windowed[k] = ((scaledIm[k] - (wl-0.5))/(ww-1)+0.5)*255\n",
    "# windowed[scaledIm > (wl-0.5+(ww-1)/2.0)] = 255\n",
    "# # windowed image (in 2D) is correct i checked visually in other DICOM viewers\n",
    "# print(\"arrays made %s\" % (time.time() - st))\n",
    "\n",
    "\n",
    "# # Volume(scaledIm, spacing=pix_spacing).show(bg=\"black\")\n",
    "# Volume(windowed, spacing=pix_spacing).show(bg=\"black\")\n",
    "\n",
    "# # X, Y, Z = np.mgrid[:30, :30, :30]\n",
    "# # scalar_field = ((X-15)**2 + (Y-15)**2 + (Z-15)**2)/225\n",
    "# # Volume(scalar_field, spacing=pix_spacing).show(bg=\"black\")      # looks good on this example\n"
   ]
  },
  {
   "cell_type": "code",
   "execution_count": null,
   "metadata": {},
   "outputs": [],
   "source": []
  }
 ],
 "metadata": {
  "kernelspec": {
   "display_name": "Python 3",
   "language": "python",
   "name": "python3"
  },
  "language_info": {
   "codemirror_mode": {
    "name": "ipython",
    "version": 3
   },
   "file_extension": ".py",
   "mimetype": "text/x-python",
   "name": "python",
   "nbconvert_exporter": "python",
   "pygments_lexer": "ipython3",
   "version": "3.6.9"
  }
 },
 "nbformat": 4,
 "nbformat_minor": 1
}
