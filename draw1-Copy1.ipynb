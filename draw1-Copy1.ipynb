{
 "cells": [
  {
   "cell_type": "code",
   "execution_count": 2,
   "metadata": {},
   "outputs": [],
   "source": [
    "import numpy as np\n",
    "import ipyvolume as ipv\n"
   ]
  },
  {
   "cell_type": "code",
   "execution_count": null,
   "metadata": {},
   "outputs": [],
   "source": [
    "def draw(name='medialSulcus', pat='0'):\n",
    "    image = np.load('/code/images/0.npy')\n",
    "    label = np.load('/code/label/0.npy')\n",
    "    \n",
    "    \n",
    "    mark = np.zeros(image.shape)\n",
    "\n",
    "    cude_size = 2\n",
    "    x = int(label[6] - label[3])\n",
    "    y = int(label[6] - label[4])\n",
    "    z = int(label[6] - label[5])\n",
    "    for i in range(-cude_size, cude_size):\n",
    "        for j in range(-cude_size, cude_size):\n",
    "            for k in range(-cude_size, cude_size):\n",
    "                mark[i+x, j+y, k+z] = 5200\n",
    "\n",
    "    fig = ipv.figure()\n",
    "    vol = ipv.volshow(image)\n",
    "    lbl = ipv.volshow(mark, extent=vol.extent)\n",
    "    ipv.save('html/' + name + '-image-' + pat + '.html')\n"
   ]
  },
  {
   "cell_type": "code",
   "execution_count": null,
   "metadata": {},
   "outputs": [],
   "source": [
    "draw('medialSulcus', '0')"
   ]
  },
  {
   "cell_type": "code",
   "execution_count": 12,
   "metadata": {},
   "outputs": [],
   "source": [
    "for i in range(15):\n",
    "    draw('medialSulcus', str(i))"
   ]
  },
  {
   "cell_type": "code",
   "execution_count": null,
   "metadata": {},
   "outputs": [],
   "source": []
  }
 ],
 "metadata": {
  "kernelspec": {
   "display_name": "Python 3",
   "language": "python",
   "name": "python3"
  },
  "language_info": {
   "codemirror_mode": {
    "name": "ipython",
    "version": 3
   },
   "file_extension": ".py",
   "mimetype": "text/x-python",
   "name": "python",
   "nbconvert_exporter": "python",
   "pygments_lexer": "ipython3",
   "version": "3.6.9"
  }
 },
 "nbformat": 4,
 "nbformat_minor": 4
}
